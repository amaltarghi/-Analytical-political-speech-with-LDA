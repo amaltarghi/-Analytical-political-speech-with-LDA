{
 "cells": [
  {
   "cell_type": "code",
   "execution_count": 38,
   "metadata": {
    "collapsed": false
   },
   "outputs": [],
   "source": [
    "import pandas as pd\n",
    "import datetime\n",
    "df1 = pd.read_csv(\"/home/amal/lda/Analytical-political-speech-with-LDA/agg_data/2016/12/20161202.csv\",sep='\\t')\n"
   ]
  },
  {
   "cell_type": "code",
   "execution_count": 39,
   "metadata": {
    "collapsed": false
   },
   "outputs": [
    {
     "data": {
      "text/html": [
       "<div>\n",
       "<table border=\"1\" class=\"dataframe\">\n",
       "  <thead>\n",
       "    <tr style=\"text-align: right;\">\n",
       "      <th></th>\n",
       "      <th># ID</th>\n",
       "      <th>CREATED_AT</th>\n",
       "      <th>IS_RETWEET</th>\n",
       "      <th>USERNAME</th>\n",
       "      <th>USERSCREENNAME</th>\n",
       "      <th>RETWEET_NUMBER</th>\n",
       "      <th>SOURCE</th>\n",
       "      <th>TEXT</th>\n",
       "    </tr>\n",
       "  </thead>\n",
       "  <tbody>\n",
       "    <tr>\n",
       "      <th>0</th>\n",
       "      <td>804464052793724929</td>\n",
       "      <td>20161202T001551Z</td>\n",
       "      <td>True</td>\n",
       "      <td>MLP Présidente 2017ن</td>\n",
       "      <td>ElyseeMarine</td>\n",
       "      <td>null</td>\n",
       "      <td>@contentcheck/identitaires-and-co</td>\n",
       "      <td>Merci @Marion_M_Le_Pen pour votre défense cour...</td>\n",
       "    </tr>\n",
       "    <tr>\n",
       "      <th>1</th>\n",
       "      <td>804467375965880321</td>\n",
       "      <td>20161202T002903Z</td>\n",
       "      <td>False</td>\n",
       "      <td>Gerard Filoche</td>\n",
       "      <td>gerardfiloche</td>\n",
       "      <td>null</td>\n",
       "      <td>@topolitiq/ps,@topolitiq/personnalites</td>\n",
       "      <td>Mélenchon aurait 11 ou 12 % ? comment addition...</td>\n",
       "    </tr>\n",
       "    <tr>\n",
       "      <th>2</th>\n",
       "      <td>804465577960112129</td>\n",
       "      <td>20161202T002154Z</td>\n",
       "      <td>True</td>\n",
       "      <td>Gerard Filoche</td>\n",
       "      <td>gerardfiloche</td>\n",
       "      <td>null</td>\n",
       "      <td>@topolitiq/ps,@topolitiq/personnalites</td>\n",
       "      <td>La réaction d'Emmanuel #Macron à l'annonce de ...</td>\n",
       "    </tr>\n",
       "    <tr>\n",
       "      <th>3</th>\n",
       "      <td>804461968774103040</td>\n",
       "      <td>20161202T000734Z</td>\n",
       "      <td>True</td>\n",
       "      <td>Pascale</td>\n",
       "      <td>Neantilisme</td>\n",
       "      <td>null</td>\n",
       "      <td>@contentcheck/identitaires-and-co</td>\n",
       "      <td>François Hollande: un champ de ruines en hérit...</td>\n",
       "    </tr>\n",
       "    <tr>\n",
       "      <th>4</th>\n",
       "      <td>804465197926805504</td>\n",
       "      <td>20161202T002024Z</td>\n",
       "      <td>True</td>\n",
       "      <td>Abou D'nerfs</td>\n",
       "      <td>Lorenzosc</td>\n",
       "      <td>null</td>\n",
       "      <td>@EcoloNantes/europe-ecologie</td>\n",
       "      <td>#Belgique La Justice veut déchoir de sa nation...</td>\n",
       "    </tr>\n",
       "  </tbody>\n",
       "</table>\n",
       "</div>"
      ],
      "text/plain": [
       "                 # ID        CREATED_AT IS_RETWEET              USERNAME  \\\n",
       "0  804464052793724929  20161202T001551Z       True  MLP Présidente 2017ن   \n",
       "1  804467375965880321  20161202T002903Z      False        Gerard Filoche   \n",
       "2  804465577960112129  20161202T002154Z       True        Gerard Filoche   \n",
       "3  804461968774103040  20161202T000734Z       True               Pascale   \n",
       "4  804465197926805504  20161202T002024Z       True          Abou D'nerfs   \n",
       "\n",
       "  USERSCREENNAME RETWEET_NUMBER                                  SOURCE  \\\n",
       "0   ElyseeMarine           null       @contentcheck/identitaires-and-co   \n",
       "1  gerardfiloche           null  @topolitiq/ps,@topolitiq/personnalites   \n",
       "2  gerardfiloche           null  @topolitiq/ps,@topolitiq/personnalites   \n",
       "3    Neantilisme           null       @contentcheck/identitaires-and-co   \n",
       "4      Lorenzosc           null            @EcoloNantes/europe-ecologie   \n",
       "\n",
       "                                                TEXT  \n",
       "0  Merci @Marion_M_Le_Pen pour votre défense cour...  \n",
       "1  Mélenchon aurait 11 ou 12 % ? comment addition...  \n",
       "2  La réaction d'Emmanuel #Macron à l'annonce de ...  \n",
       "3  François Hollande: un champ de ruines en hérit...  \n",
       "4  #Belgique La Justice veut déchoir de sa nation...  "
      ]
     },
     "execution_count": 39,
     "metadata": {},
     "output_type": "execute_result"
    }
   ],
   "source": [
    "\n",
    "df1.head()"
   ]
  },
  {
   "cell_type": "code",
   "execution_count": 66,
   "metadata": {
    "collapsed": false
   },
   "outputs": [
    {
     "data": {
      "text/plain": [
       "datetime.date(2016, 12, 2)"
      ]
     },
     "execution_count": 66,
     "metadata": {},
     "output_type": "execute_result"
    }
   ],
   "source": [
    "a = df1['CREATED_AT'].iloc[[1]].to_string()[5:13]\n",
    "\n",
    "datetime.datetime.strptime(a, '%Y%m%d').date()\n"
   ]
  },
  {
   "cell_type": "code",
   "execution_count": null,
   "metadata": {
    "collapsed": true
   },
   "outputs": [],
   "source": []
  }
 ],
 "metadata": {
  "kernelspec": {
   "display_name": "Python 2",
   "language": "python",
   "name": "python2"
  },
  "language_info": {
   "codemirror_mode": {
    "name": "ipython",
    "version": 2
   },
   "file_extension": ".py",
   "mimetype": "text/x-python",
   "name": "python",
   "nbconvert_exporter": "python",
   "pygments_lexer": "ipython2",
   "version": "2.7.12"
  }
 },
 "nbformat": 4,
 "nbformat_minor": 1
}
