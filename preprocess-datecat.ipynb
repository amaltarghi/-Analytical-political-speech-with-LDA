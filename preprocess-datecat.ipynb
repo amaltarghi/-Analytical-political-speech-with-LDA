{
 "cells": [
  {
   "cell_type": "code",
   "execution_count": 1,
   "metadata": {
    "collapsed": true
   },
   "outputs": [],
   "source": [
    "import os\n",
    "from stop_words import get_stop_words\n",
    "from nltk.tokenize import TweetTokenizer\n",
    "from nltk.tokenize import WordPunctTokenizer\n",
    "import pandas as pd\n",
    "import re\n",
    "import unidecode\n",
    "import unicodedata\n"
   ]
  },
  {
   "cell_type": "code",
   "execution_count": 2,
   "metadata": {
    "collapsed": false
   },
   "outputs": [],
   "source": [
    "df1 = pd.read_csv(\"person2side.csv\",sep='\\t',encoding='utf-8',header=None)"
   ]
  },
  {
   "cell_type": "code",
   "execution_count": 3,
   "metadata": {
    "collapsed": false
   },
   "outputs": [
    {
     "data": {
      "text/plain": [
       "array([u'Droite', u'Gauche', u'Centre', u'Extr\\xeame-Gauche',\n",
       "       u'Extr\\xeame-Droite', u'\\xc9cologistes', u'Identitaires',\n",
       "       u'Extr\\xeame-Droite,Identitaires'], dtype=object)"
      ]
     },
     "execution_count": 3,
     "metadata": {},
     "output_type": "execute_result"
    }
   ],
   "source": [
    "df1[2].unique()\n"
   ]
  },
  {
   "cell_type": "code",
   "execution_count": null,
   "metadata": {
    "collapsed": false
   },
   "outputs": [
    {
     "name": "stdout",
     "output_type": "stream",
     "text": [
      "Gauche\n"
     ]
    }
   ],
   "source": [
    "a=\"\"\n",
    "try:\n",
    "    a = df1[df1[0] == 'ABachelay'].iloc[0][2]\n",
    "except:\n",
    "    ;\n",
    "\n",
    "print a"
   ]
  },
  {
   "cell_type": "code",
   "execution_count": null,
   "metadata": {
    "collapsed": false
   },
   "outputs": [
    {
     "name": "stdout",
     "output_type": "stream",
     "text": [
      "./agg_data/2016/09/20160922.csv\n",
      "./agg_data/2016/09/20160925.csv\n"
     ]
    }
   ],
   "source": [
    "dict_df = {}\n",
    "directory = os.path.join(\".\",\"agg_data\")\n",
    "for root,dirs,files in os.walk(directory):\n",
    "    for file in files:\n",
    "        if file.endswith(\".csv\"):\n",
    "            print root+'/'+file\n",
    "            df = pd.read_csv(root+'/'+file,sep='\\t',encoding='utf-8')\n",
    "            \n",
    "            for i in range(len(df.index)):\n",
    "                a=\"\"\n",
    "                try:\n",
    "                    a = df1[df1[0] == df.iloc[i:i+1,4:5].to_string().split(' ')[-1]].iloc[0][2]\n",
    "                except:\n",
    "                    ;\n",
    "                if(a!=\"\"):\n",
    "                    if a in dict_df:\n",
    "                        dict_df[a]=pd.concat([dict_df[a],df.iloc[[i]]])\n",
    "                    else:\n",
    "                        dict_df[a] = df.iloc[[i]]"
   ]
  },
  {
   "cell_type": "code",
   "execution_count": null,
   "metadata": {
    "collapsed": false
   },
   "outputs": [],
   "source": [
    "len(dict_df)"
   ]
  },
  {
   "cell_type": "code",
   "execution_count": null,
   "metadata": {
    "collapsed": false,
    "scrolled": true
   },
   "outputs": [],
   "source": [
    "for key, value in dict_df.items():\n",
    "    value.to_csv(\"./out2/\"+key+\".csv\",encoding='utf-8',sep='\\t',index=None)\n",
    "    \n",
    "# to move one row from df2 to df1, use .loc to enlarge df1\n",
    "# this is far more efficient than pd.concat and pd.append\n"
   ]
  },
  {
   "cell_type": "code",
   "execution_count": null,
   "metadata": {
    "collapsed": true
   },
   "outputs": [],
   "source": []
  }
 ],
 "metadata": {
  "anaconda-cloud": {},
  "kernelspec": {
   "display_name": "Python [default]",
   "language": "python",
   "name": "python2"
  },
  "language_info": {
   "codemirror_mode": {
    "name": "ipython",
    "version": 2
   },
   "file_extension": ".py",
   "mimetype": "text/x-python",
   "name": "python",
   "nbconvert_exporter": "python",
   "pygments_lexer": "ipython2",
   "version": "2.7.12"
  }
 },
 "nbformat": 4,
 "nbformat_minor": 1
}
